{
  "nbformat": 4,
  "nbformat_minor": 0,
  "metadata": {
    "colab": {
      "provenance": []
    },
    "kernelspec": {
      "name": "python3",
      "display_name": "Python 3"
    }
  },
  "cells": [
    {
      "cell_type": "markdown",
      "metadata": {
        "id": "5WVPFRqIj9CD"
      },
      "source": [
        "The numpy is extremely capable library that is extensively used in a wide range of applications but not so much in networking. **So you will not be tested on this library**.\n",
        "The following is a demonstration of this very optimized library. "
      ]
    },
    {
      "cell_type": "markdown",
      "metadata": {
        "id": "_cg_qeuZy5lI"
      },
      "source": [
        "#*Using numpy for networking*\n",
        "numpy is a package suitable for numerical computation. It must be install externally e.g. pip install numpy.  \n",
        "In mathematics a numpy array is like a vector"
      ]
    },
    {
      "cell_type": "code",
      "metadata": {
        "id": "kgFNiclyyeik"
      },
      "source": [
        "import numpy as np"
      ],
      "execution_count": null,
      "outputs": []
    },
    {
      "cell_type": "markdown",
      "metadata": {
        "id": "c1VVMSSbznmz"
      },
      "source": [
        "###Returns a numpy array with items evenly spaced within a given half-closed interval.\n",
        "np.arange([start=0], end, [steps=1])"
      ]
    },
    {
      "cell_type": "code",
      "metadata": {
        "id": "ES82ToTRzOKp",
        "outputId": "6df6cbb0-e354-4123-8d58-a348d37bd6ad",
        "colab": {
          "base_uri": "https://localhost:8080/",
          "height": 34
        }
      },
      "source": [
        "a = np.arange(3, 10, 2)\n",
        "a"
      ],
      "execution_count": null,
      "outputs": [
        {
          "output_type": "execute_result",
          "data": {
            "text/plain": [
              "array([3, 5, 7, 9])"
            ]
          },
          "metadata": {
            "tags": []
          },
          "execution_count": 3
        }
      ]
    },
    {
      "cell_type": "markdown",
      "metadata": {
        "id": "pBtd4mK3hx21"
      },
      "source": []
    },
    {
      "cell_type": "markdown",
      "metadata": {
        "id": "kTk8JBqk0GxH"
      },
      "source": [
        "Using the defaults of first as 0 and steps to be 1."
      ]
    },
    {
      "cell_type": "code",
      "metadata": {
        "id": "BFk2LaTozmNb",
        "outputId": "5cd69622-e9e1-48ed-c920-c774aa40ee9c",
        "colab": {
          "base_uri": "https://localhost:8080/",
          "height": 34
        }
      },
      "source": [
        "a = np.arange(4)\n",
        "a"
      ],
      "execution_count": null,
      "outputs": [
        {
          "output_type": "execute_result",
          "data": {
            "text/plain": [
              "array([0, 1, 2, 3])"
            ]
          },
          "metadata": {
            "tags": []
          },
          "execution_count": 4
        }
      ]
    },
    {
      "cell_type": "markdown",
      "metadata": {
        "id": "GpvXW7L01ckL"
      },
      "source": [
        "##Returns a numpy array with the specified number of items\n",
        ".linspace(start, stop, [number_of_values=50]"
      ]
    },
    {
      "cell_type": "code",
      "metadata": {
        "id": "bD1uyihH1I8X",
        "outputId": "8c783938-07b2-45cb-e26a-b8d657c7135c",
        "colab": {
          "base_uri": "https://localhost:8080/",
          "height": 34
        }
      },
      "source": [
        "b = np.linspace(3, 4, 5)\n",
        "b"
      ],
      "execution_count": null,
      "outputs": [
        {
          "output_type": "execute_result",
          "data": {
            "text/plain": [
              "array([3.  , 3.25, 3.5 , 3.75, 4.  ])"
            ]
          },
          "metadata": {
            "tags": []
          },
          "execution_count": 5
        }
      ]
    },
    {
      "cell_type": "markdown",
      "metadata": {
        "id": "xnzLkOK42or4"
      },
      "source": [
        "utilizing the default value of the last argument"
      ]
    },
    {
      "cell_type": "code",
      "metadata": {
        "id": "qdLkgYUZ1-mI",
        "outputId": "678483cd-12b4-4436-bf18-ad3438dede10",
        "colab": {
          "base_uri": "https://localhost:8080/",
          "height": 86
        }
      },
      "source": [
        "b = np.linspace(2, 198, dtype=int)\n",
        "b"
      ],
      "execution_count": null,
      "outputs": [
        {
          "output_type": "execute_result",
          "data": {
            "text/plain": [
              "array([  2,   6,  10,  14,  18,  22,  26,  30,  34,  38,  42,  46,  50,\n",
              "        54,  58,  62,  66,  70,  74,  78,  82,  86,  90,  94,  98, 102,\n",
              "       106, 110, 114, 118, 122, 126, 130, 134, 138, 142, 146, 150, 154,\n",
              "       158, 162, 166, 170, 174, 178, 182, 186, 190, 194, 198])"
            ]
          },
          "metadata": {
            "tags": []
          },
          "execution_count": 6
        }
      ]
    },
    {
      "cell_type": "markdown",
      "metadata": {
        "id": "KSXmfnne3C-c"
      },
      "source": [
        "##Creating a numpy array using values from a list\n",
        "A simple list"
      ]
    },
    {
      "cell_type": "code",
      "metadata": {
        "id": "Mg1O_1EI3ZSW",
        "outputId": "e8f9b0ea-4e37-47b7-ae3b-b07fb9e8c769",
        "colab": {
          "base_uri": "https://localhost:8080/",
          "height": 34
        }
      },
      "source": [
        "c = np.array([2, 3, 5, 7, 11])\n",
        "c"
      ],
      "execution_count": null,
      "outputs": [
        {
          "output_type": "execute_result",
          "data": {
            "text/plain": [
              "array([ 2,  3,  5,  7, 11])"
            ]
          },
          "metadata": {
            "tags": []
          },
          "execution_count": 7
        }
      ]
    },
    {
      "cell_type": "markdown",
      "metadata": {
        "id": "Lqv76Cjs3lgE"
      },
      "source": [
        "Values from a nested list"
      ]
    },
    {
      "cell_type": "code",
      "metadata": {
        "id": "FVh19Gw33qX6",
        "outputId": "a34d4ef2-1c7b-420a-dd34-7b6946648748",
        "colab": {
          "base_uri": "https://localhost:8080/",
          "height": 69
        }
      },
      "source": [
        "c = np.array([[1, 2], [3, 4], [5, 6]]) \n",
        "c"
      ],
      "execution_count": null,
      "outputs": [
        {
          "output_type": "execute_result",
          "data": {
            "text/plain": [
              "array([[1, 2],\n",
              "       [3, 4],\n",
              "       [5, 6]])"
            ]
          },
          "metadata": {
            "tags": []
          },
          "execution_count": 8
        }
      ]
    },
    {
      "cell_type": "markdown",
      "metadata": {
        "id": "b0Ryq45d4gRe"
      },
      "source": [
        "##Creating a numpy array from an exising one\n"
      ]
    },
    {
      "cell_type": "code",
      "metadata": {
        "id": "v9YcLhQw5Fi4",
        "outputId": "88fbc721-e031-48b1-a670-c7ad3997827c",
        "colab": {
          "base_uri": "https://localhost:8080/",
          "height": 208
        }
      },
      "source": [
        "e = np.reshape(np.arange(24), (4,2,3))\n",
        "e"
      ],
      "execution_count": null,
      "outputs": [
        {
          "output_type": "execute_result",
          "data": {
            "text/plain": [
              "array([[[ 0,  1,  2],\n",
              "        [ 3,  4,  5]],\n",
              "\n",
              "       [[ 6,  7,  8],\n",
              "        [ 9, 10, 11]],\n",
              "\n",
              "       [[12, 13, 14],\n",
              "        [15, 16, 17]],\n",
              "\n",
              "       [[18, 19, 20],\n",
              "        [21, 22, 23]]])"
            ]
          },
          "metadata": {
            "tags": []
          },
          "execution_count": 9
        }
      ]
    },
    {
      "cell_type": "markdown",
      "metadata": {
        "id": "T6JGkta35Ysc"
      },
      "source": [
        "By transposing.\n"
      ]
    },
    {
      "cell_type": "code",
      "metadata": {
        "id": "qSGKEZRS5cmq",
        "outputId": "08a78471-2a5d-4a01-c9df-4ab6ecf3f43d",
        "colab": {
          "base_uri": "https://localhost:8080/",
          "height": 52
        }
      },
      "source": [
        "e = np.array([[1, 2], [3, 4], [5, 6]]).T\n",
        "e"
      ],
      "execution_count": null,
      "outputs": [
        {
          "output_type": "execute_result",
          "data": {
            "text/plain": [
              "array([[1, 3, 5],\n",
              "       [2, 4, 6]])"
            ]
          },
          "metadata": {
            "tags": []
          },
          "execution_count": 10
        }
      ]
    },
    {
      "cell_type": "markdown",
      "metadata": {
        "id": "dMX20uFlB3cY"
      },
      "source": [
        "generating random values with uniform distribution"
      ]
    },
    {
      "cell_type": "code",
      "metadata": {
        "id": "wcWS6Yiq7-O9",
        "outputId": "3f352678-a7ff-49b7-c999-17f9666e149f",
        "colab": {
          "base_uri": "https://localhost:8080/",
          "height": 52
        }
      },
      "source": [
        "f = np.random.rand(2, 5)\n",
        "f"
      ],
      "execution_count": null,
      "outputs": [
        {
          "output_type": "execute_result",
          "data": {
            "text/plain": [
              "array([[0.339673  , 0.1002474 , 0.84477942, 0.75846875, 0.40865231],\n",
              "       [0.15343869, 0.33195172, 0.36590536, 0.00273014, 0.44985903]])"
            ]
          },
          "metadata": {
            "tags": []
          },
          "execution_count": 11
        }
      ]
    },
    {
      "cell_type": "markdown",
      "metadata": {
        "id": "bV_ftMRDCzXW"
      },
      "source": [
        "Generating random values with standard normal (gauss) distribution (mean = 0 and variance = 1)"
      ]
    },
    {
      "cell_type": "code",
      "metadata": {
        "id": "PksKdTKwCtiy",
        "outputId": "e870d09c-7d52-4d08-8e3a-3bfe34641a0a",
        "colab": {
          "base_uri": "https://localhost:8080/",
          "height": 69
        }
      },
      "source": [
        "f = np.random.randn(3, 2)\n",
        "f"
      ],
      "execution_count": null,
      "outputs": [
        {
          "output_type": "execute_result",
          "data": {
            "text/plain": [
              "array([[-1.24130646,  2.92357033],\n",
              "       [ 0.32228798,  0.18604171],\n",
              "       [-1.65881246,  1.27148109]])"
            ]
          },
          "metadata": {
            "tags": []
          },
          "execution_count": 12
        }
      ]
    },
    {
      "cell_type": "markdown",
      "metadata": {
        "id": "bmSc4xgoUSXW"
      },
      "source": [
        "##Operations on numpy arrays\n",
        "Operations that returns a scalar\n",
        "Most of the commands are self-explanatory"
      ]
    },
    {
      "cell_type": "code",
      "metadata": {
        "id": "xL4UcZH0Uia1",
        "outputId": "15a9ea55-4f81-4136-933b-21793b64ba5c",
        "colab": {
          "base_uri": "https://localhost:8080/",
          "height": 34
        }
      },
      "source": [
        "h = np.random.randn(100)\n",
        "h.min()\n",
        "\n"
      ],
      "execution_count": null,
      "outputs": [
        {
          "output_type": "execute_result",
          "data": {
            "text/plain": [
              "-2.1802766477994395"
            ]
          },
          "metadata": {
            "tags": []
          },
          "execution_count": 13
        }
      ]
    },
    {
      "cell_type": "code",
      "metadata": {
        "id": "k6uft6JyKx8b",
        "outputId": "a84e739f-3be2-4462-815c-f51b652654d8",
        "colab": {
          "base_uri": "https://localhost:8080/",
          "height": 34
        }
      },
      "source": [
        "h.max()"
      ],
      "execution_count": null,
      "outputs": [
        {
          "output_type": "execute_result",
          "data": {
            "text/plain": [
              "2.286174786369379"
            ]
          },
          "metadata": {
            "tags": []
          },
          "execution_count": 14
        }
      ]
    },
    {
      "cell_type": "code",
      "metadata": {
        "id": "ZLsLZklVK2bW",
        "outputId": "98c7fffe-fef7-41d8-c27a-68bcf4c81eec",
        "colab": {
          "base_uri": "https://localhost:8080/",
          "height": 34
        }
      },
      "source": [
        "h.mean()"
      ],
      "execution_count": null,
      "outputs": [
        {
          "output_type": "execute_result",
          "data": {
            "text/plain": [
              "-0.07222027578827235"
            ]
          },
          "metadata": {
            "tags": []
          },
          "execution_count": 15
        }
      ]
    },
    {
      "cell_type": "code",
      "metadata": {
        "id": "E5lzpImEK9Dk",
        "outputId": "6ce7b2d8-979b-49b3-bb82-907a18866013",
        "colab": {
          "base_uri": "https://localhost:8080/",
          "height": 34
        }
      },
      "source": [
        "h.var()"
      ],
      "execution_count": null,
      "outputs": [
        {
          "output_type": "execute_result",
          "data": {
            "text/plain": [
              "0.762875580452302"
            ]
          },
          "metadata": {
            "tags": []
          },
          "execution_count": 16
        }
      ]
    },
    {
      "cell_type": "markdown",
      "metadata": {
        "id": "jXrEy23XMLVl"
      },
      "source": [
        "Operations between numpy array and scalar that returns a numpy array.\n",
        "\n",
        "Again the operations are self-explanatory"
      ]
    },
    {
      "cell_type": "code",
      "metadata": {
        "id": "JvR9rsRSLLLH",
        "outputId": "070b483a-c437-439b-9641-15fc149e7105",
        "colab": {
          "base_uri": "https://localhost:8080/",
          "height": 364
        }
      },
      "source": [
        "h + 2\n"
      ],
      "execution_count": null,
      "outputs": [
        {
          "output_type": "execute_result",
          "data": {
            "text/plain": [
              "array([ 2.53007607,  1.57342416,  3.4481477 ,  0.88452168,  2.12428762,\n",
              "        1.50145121,  2.40252638,  1.79311677,  1.81313202,  2.06966808,\n",
              "        2.88437657,  1.54732754,  2.88298888,  3.78339164,  2.28249491,\n",
              "        2.16046333,  1.87502806,  0.786227  ,  1.80736585,  0.14643594,\n",
              "        2.08096838,  1.80806036,  3.99762773,  1.17696657,  1.94548494,\n",
              "        2.94316675,  2.87492623,  1.86949851,  1.17088915,  2.19764071,\n",
              "        0.49302774,  2.56883567,  1.88119263,  1.883648  ,  2.07128687,\n",
              "        0.36871354,  1.25830156,  1.47367293,  1.93312634,  1.33260998,\n",
              "        3.10489617,  0.73182444,  2.51239503,  1.32252736,  1.43112931,\n",
              "        2.50329415,  2.65174721,  3.03814784,  0.78402036,  0.41739637,\n",
              "        3.71048572,  3.01678315,  1.25697624,  1.52160011,  1.08310461,\n",
              "        2.04602933,  2.64409137, -0.07378297,  2.30501884,  2.69681614,\n",
              "        1.32630626,  2.21370446,  1.86392376,  1.47402765,  1.73807866,\n",
              "        2.4758921 ,  2.62166716,  1.1769691 ,  3.08561382,  2.46576155,\n",
              "        2.52397453,  3.4867555 ,  1.60251604,  2.26614842,  2.91396729,\n",
              "        1.64391671,  1.95003254,  0.91687296,  2.39697762,  0.58597679,\n",
              "        2.3449359 ,  4.08689501,  0.21643291,  2.01822055,  2.12873284,\n",
              "        1.50031867,  3.50955617,  2.25433907,  1.48649143,  3.11884541,\n",
              "        2.59735903,  1.12590136,  2.11974628,  1.06146348,  2.5312954 ,\n",
              "        2.81922742,  2.25943061,  2.3804573 ,  2.74091552,  0.14156038])"
            ]
          },
          "metadata": {
            "tags": []
          },
          "execution_count": 20
        }
      ]
    },
    {
      "cell_type": "code",
      "metadata": {
        "id": "s7d__GE6M4tI",
        "outputId": "bc9f68bc-4c43-48ee-e704-f3ad285c56e6",
        "colab": {
          "base_uri": "https://localhost:8080/",
          "height": 451
        }
      },
      "source": [
        "h * 10\n"
      ],
      "execution_count": null,
      "outputs": [
        {
          "output_type": "execute_result",
          "data": {
            "text/plain": [
              "array([  9.5224773 ,  11.0012462 ,   6.57030582,  -0.41566104,\n",
              "        14.3690303 ,   1.04624622,   4.41589924,  -9.53119989,\n",
              "        -6.72248916, -15.59677972,  -8.85891239, -11.65959652,\n",
              "       -14.14904259,  -0.90754847,   6.03942147,  -6.05348588,\n",
              "       -18.84207344, -13.81987222,  -1.62403057,   7.14461579,\n",
              "         0.87370183,   0.94578223,  -2.73270179,   0.98816899,\n",
              "        -6.45009074,  -4.2234528 ,  11.89724215, -11.29967956,\n",
              "         6.46043683,   6.29253059,  -2.22043786,   6.54406738,\n",
              "         0.08440457,  -0.83411399,  -1.89222719,  11.432351  ,\n",
              "         1.47718277,   9.64616154,  14.14084657,  -2.30177708,\n",
              "       -10.80830817,   6.69810292,   0.1554458 ,   9.59855124,\n",
              "        -0.82353673,  -7.30680483,  10.7211509 , -13.44092908,\n",
              "        13.60881417,  -8.92108843,  -3.85260028,   9.36182819,\n",
              "        22.86174786,   1.99654085,  -8.43400127,   2.48268   ,\n",
              "       -20.74420686,   3.74726556,   1.34856355, -12.60410787,\n",
              "         1.099078  ,   2.47433005,  -9.88105028, -12.7546724 ,\n",
              "        17.69035167,  -4.87859397, -11.61929412,   5.18881835,\n",
              "         5.6843768 ,   3.50740786,  12.87014195, -11.26883221,\n",
              "        -0.23722813,   3.81351664,  -5.99749333, -21.80276648,\n",
              "        -7.66464108, -13.12558931,   4.92538567,  -4.06935041,\n",
              "        -7.43108556,   9.92187427,  -2.29126162,  -8.85998485,\n",
              "        -2.20476588,  -0.85713951,   6.2505395 ,   3.75384228,\n",
              "        -8.50444306,  -8.8554038 ,   4.86847196,   2.17331944,\n",
              "         2.16845961,   4.30329697,  -8.62513283,   7.64273123,\n",
              "        -4.53612248,  -8.41802421,   3.56246354,   3.36214049])"
            ]
          },
          "metadata": {
            "tags": []
          },
          "execution_count": 17
        }
      ]
    },
    {
      "cell_type": "markdown",
      "metadata": {
        "id": "5rx15yEABK-0"
      },
      "source": [
        "##Working with multi-dimensional array"
      ]
    },
    {
      "cell_type": "code",
      "metadata": {
        "id": "j8IwM0_sIar9",
        "outputId": "edd0d7c9-3cec-4604-c2d2-5188a9e715eb",
        "colab": {
          "base_uri": "https://localhost:8080/",
          "height": 52
        }
      },
      "source": [
        "#zero dimension (just a scalar)\n",
        "k = np.array(1.1)\n",
        "print(k.shape)\n",
        "print(k)"
      ],
      "execution_count": null,
      "outputs": [
        {
          "output_type": "stream",
          "text": [
            "()\n",
            "1.1\n"
          ],
          "name": "stdout"
        }
      ]
    },
    {
      "cell_type": "code",
      "metadata": {
        "id": "YS0jRklHIf84",
        "outputId": "b79839b8-f5e7-450e-81de-1ed3f1db6399",
        "colab": {
          "base_uri": "https://localhost:8080/",
          "height": 86
        }
      },
      "source": [
        "#one dimensional\n",
        "k = np.array([1.1])\n",
        "print(k.shape)\n",
        "print(k)\n",
        "\n",
        "k = np.array([1.1, 1.2, 1.3, 1.4])\n",
        "print(k.shape)\n",
        "print(k)"
      ],
      "execution_count": null,
      "outputs": [
        {
          "output_type": "stream",
          "text": [
            "(1,)\n",
            "[1.1]\n",
            "(4,)\n",
            "[1.1 1.2 1.3 1.4]\n"
          ],
          "name": "stdout"
        }
      ]
    },
    {
      "cell_type": "code",
      "metadata": {
        "id": "JPric31bI1QZ",
        "outputId": "d7a0466b-a5da-4b58-a0f4-59e7af2d9341",
        "colab": {
          "base_uri": "https://localhost:8080/",
          "height": 295
        }
      },
      "source": [
        "#two dimensional 1x1\n",
        "k = np.array([[1.1]])\n",
        "print('\\n', 'shape: ', k.shape)\n",
        "print(k)\n",
        "\n",
        "#two dimensional 1x4\n",
        "k = np.array([[1.1, 1.2, 1.3, 1.4]])\n",
        "print('\\n', 'shape: ', k.shape)\n",
        "print(k)\n",
        "\n",
        "#two dimensional 4x1\n",
        "k = np.array([[1.1], \n",
        "              [2.1], \n",
        "              [3.1], \n",
        "              [4.1]])\n",
        "print('\\n', 'shape: ', k.shape)\n",
        "print(k)\n",
        "\n",
        "#two dimensional 2x4\n",
        "k = np.array([[1.1, 1.2, 1.3, 1.4],\n",
        "              [2.1, 2.2, 2.3, 2.4]])\n",
        "print('\\n', 'shape: ', k.shape)\n",
        "print(k)"
      ],
      "execution_count": null,
      "outputs": [
        {
          "output_type": "stream",
          "text": [
            "\n",
            " shape:  (1, 1)\n",
            "[[1.1]]\n",
            "\n",
            " shape:  (1, 4)\n",
            "[[1.1 1.2 1.3 1.4]]\n",
            "\n",
            " shape:  (4, 1)\n",
            "[[1.1]\n",
            " [2.1]\n",
            " [3.1]\n",
            " [4.1]]\n",
            "\n",
            " shape:  (2, 4)\n",
            "[[1.1 1.2 1.3 1.4]\n",
            " [2.1 2.2 2.3 2.4]]\n"
          ],
          "name": "stdout"
        }
      ]
    },
    {
      "cell_type": "markdown",
      "metadata": {
        "id": "5LtVJMjDWPVw"
      },
      "source": [
        "###3 Dimensions"
      ]
    },
    {
      "cell_type": "code",
      "metadata": {
        "id": "0eID-htaWTfU",
        "outputId": "934c3b52-a349-401d-85e0-135602552e2b",
        "colab": {
          "base_uri": "https://localhost:8080/",
          "height": 69
        }
      },
      "source": [
        "# 1x1x1\n",
        "k = np.array([[[1.101]]])\n",
        "print('\\n', 'shape: ', k.shape)\n",
        "print(k)\n"
      ],
      "execution_count": null,
      "outputs": [
        {
          "output_type": "stream",
          "text": [
            "\n",
            " shape:  (1, 1, 1)\n",
            "[[[1.101]]]\n"
          ],
          "name": "stdout"
        }
      ]
    },
    {
      "cell_type": "code",
      "metadata": {
        "id": "Y81_3CZIWZMQ",
        "outputId": "6f205ef3-cc33-4f2f-dbbc-642347b6b4dc",
        "colab": {
          "base_uri": "https://localhost:8080/",
          "height": 69
        }
      },
      "source": [
        "# 1x1x4\n",
        "k = np.array([[[1.101, 1.102, 1.103, 1.104]]])\n",
        "print('\\n', 'shape: ', k.shape)\n",
        "print(k)\n"
      ],
      "execution_count": null,
      "outputs": [
        {
          "output_type": "stream",
          "text": [
            "\n",
            " shape:  (1, 1, 4)\n",
            "[[[1.101 1.102 1.103 1.104]]]\n"
          ],
          "name": "stdout"
        }
      ]
    },
    {
      "cell_type": "code",
      "metadata": {
        "id": "xL-oLe9bW5Ui",
        "outputId": "08e3f419-3a6d-4601-ec7e-abac92cd2c61",
        "colab": {
          "base_uri": "https://localhost:8080/",
          "height": 330
        }
      },
      "source": [
        "# 4x1x1\n",
        "k = np.array([[[1.101],\n",
        "               [2.101],\n",
        "               [3.101],\n",
        "               [4.101]]])\n",
        "print('\\n', 'shape: ', k.shape)\n",
        "print(k)\n",
        "\n",
        "# 4x1x1\n",
        "k = np.array([[[1.101]],\n",
        "              [[2.101]],\n",
        "              [[3.101]],\n",
        "              [[4.101]]])\n",
        "print('\\n', 'shape: ', k.shape)\n",
        "print(k)\n",
        "\n",
        "#three dimensions 1x4x1\n",
        "k = np.array([[[1.101,1.201, 1.301, 1.401]]])\n",
        "print('\\n', 'shape: ', k.shape)\n",
        "print(k)"
      ],
      "execution_count": null,
      "outputs": [
        {
          "output_type": "stream",
          "text": [
            "\n",
            " shape:  (1, 4, 1)\n",
            "[[[1.101]\n",
            "  [2.101]\n",
            "  [3.101]\n",
            "  [4.101]]]\n",
            "\n",
            " shape:  (4, 1, 1)\n",
            "[[[1.101]]\n",
            "\n",
            " [[2.101]]\n",
            "\n",
            " [[3.101]]\n",
            "\n",
            " [[4.101]]]\n",
            "\n",
            " shape:  (1, 1, 4)\n",
            "[[[1.101 1.201 1.301 1.401]]]\n"
          ],
          "name": "stdout"
        }
      ]
    },
    {
      "cell_type": "code",
      "metadata": {
        "id": "_YqE9y5OBSkp",
        "outputId": "6d8e0239-b069-4ffc-ed06-75b2f3299778",
        "colab": {
          "base_uri": "https://localhost:8080/",
          "height": 312
        }
      },
      "source": [
        "#three dimensions 1x4x3\n",
        "k = np.array([[[1.101, 1.102, 1.103],\n",
        "               [1.201, 1.202, 1.203], \n",
        "               [1.301, 1.302, 1.303], \n",
        "               [1.401, 1.402, 1.403]]])\n",
        "print('\\n', 'shape: ', k.shape)\n",
        "print(k)\n",
        "\n",
        "#three dimensions 2x4x3\n",
        "k = np.array([[[1.101, 1.102, 1.103],\n",
        "               [1.201, 1.202, 1.203], \n",
        "               [1.301, 1.302, 1.303], \n",
        "               [1.401, 1.402, 1.403]],\n",
        "              [[2.101, 2.102, 2.103],\n",
        "               [2.201, 2.202, 2.203], \n",
        "               [2.301, 2.302, 2.303], \n",
        "               [2.401, 2.402, 2.403]]])\n",
        "print('\\n', 'shape: ', k.shape)\n",
        "print(k)"
      ],
      "execution_count": null,
      "outputs": [
        {
          "output_type": "stream",
          "text": [
            "\n",
            " shape:  (1, 4, 3)\n",
            "[[[1.101 1.102 1.103]\n",
            "  [1.201 1.202 1.203]\n",
            "  [1.301 1.302 1.303]\n",
            "  [1.401 1.402 1.403]]]\n",
            "\n",
            " shape:  (2, 4, 3)\n",
            "[[[1.101 1.102 1.103]\n",
            "  [1.201 1.202 1.203]\n",
            "  [1.301 1.302 1.303]\n",
            "  [1.401 1.402 1.403]]\n",
            "\n",
            " [[2.101 2.102 2.103]\n",
            "  [2.201 2.202 2.203]\n",
            "  [2.301 2.302 2.303]\n",
            "  [2.401 2.402 2.403]]]\n"
          ],
          "name": "stdout"
        }
      ]
    },
    {
      "cell_type": "markdown",
      "metadata": {
        "id": "2nAASityZcEF"
      },
      "source": [
        "##ndarrays and image data\n",
        "The shape of an image data depends on the type of color mode of the image\n",
        "- grayscale ->  (h, w). Each pixel (item of the array) will represent a single grayscale value\n",
        "- rgb -> (h, w, 3). Each pixel will represent a array of (r, g, b) value\n",
        "- for other color space the three values represent other things"
      ]
    },
    {
      "cell_type": "code",
      "metadata": {
        "id": "ofyIV0Y8dgb3",
        "outputId": "6d5131f5-71a6-4aaf-d0bd-b5f240f82dc2",
        "colab": {
          "base_uri": "https://localhost:8080/",
          "height": 523
        }
      },
      "source": [
        "import matplotlib.pyplot as plt\n",
        "ones = np.ones([2, 4, 3], 'uint8') #the pixel values is 1 which is almost black\n",
        "# print(ones.shape)\n",
        "# print(ones)\n",
        "white = ones * (2 ** 8 - 1)        #the pixel values is 255 which is white\n",
        "print(white)\n",
        "line = white.copy();\n",
        "# print(line)\n",
        "for x in range(4):\n",
        "  line[1][x][1]= 0\n",
        "print(line)\n",
        "\n",
        "plt.suptitle('image is 2 pixel tall and 4 pixels wide')\n",
        "plt.subplot(131), plt.imshow(ones), plt.title('black') \n",
        "plt.subplot(132), plt.imshow(white), plt.title('white')  \n",
        "plt.subplot(133), plt.imshow(line), plt.title('line')    \n",
        "plt.show()"
      ],
      "execution_count": null,
      "outputs": [
        {
          "output_type": "stream",
          "text": [
            "[[[255 255 255]\n",
            "  [255 255 255]\n",
            "  [255 255 255]\n",
            "  [255 255 255]]\n",
            "\n",
            " [[255 255 255]\n",
            "  [255 255 255]\n",
            "  [255 255 255]\n",
            "  [255 255 255]]]\n",
            "[[[255 255 255]\n",
            "  [255 255 255]\n",
            "  [255 255 255]\n",
            "  [255 255 255]]\n",
            "\n",
            " [[255   0 255]\n",
            "  [255   0 255]\n",
            "  [255   0 255]\n",
            "  [255   0 255]]]\n"
          ],
          "name": "stdout"
        },
        {
          "output_type": "display_data",
          "data": {
            "image/png": "[encoded data removed]",
            "text/plain": [
              "<Figure size 432x288 with 3 Axes>"
            ]
          },
          "metadata": {
            "tags": [],
            "needs_background": "light"
          }
        }
      ]
    },
    {
      "cell_type": "code",
      "metadata": {
        "id": "XQeBLaCqqqzT",
        "outputId": "d0c93c16-a553-42e7-9cc4-7f044415d462",
        "colab": {
          "base_uri": "https://localhost:8080/",
          "height": 219
        }
      },
      "source": [
        "#black 2x4 image\n",
        "black = np.array([[[0, 0, 0], [0, 0, 0], [0, 0, 0], [0, 0, 0]],\n",
        "                  [[0, 0, 0], [0, 0, 0], [0, 0, 0], [0, 0, 0]]])\n",
        "\n",
        "plt.imshow(black)\n",
        "plt.show()"
      ],
      "execution_count": null,
      "outputs": [
        {
          "output_type": "display_data",
          "data": {
            "image/png": "[encoded data removed]",
            "text/plain": [
              "<Figure size 432x288 with 1 Axes>"
            ]
          },
          "metadata": {
            "tags": [],
            "needs_background": "light"
          }
        }
      ]
    },
    {
      "cell_type": "code",
      "metadata": {
        "id": "CnZyvs7orboj",
        "outputId": "5e036865-7a75-448a-c2a8-d4f30c9c3583",
        "colab": {
          "base_uri": "https://localhost:8080/",
          "height": 219
        }
      },
      "source": [
        "#checkered 2x4 image\n",
        "check = np.array([[[0, 0, 0],       [255, 0, 0],   [0, 255, 0],   [0, 0, 255]],\n",
        "                  [[255, 255, 255], [255, 255, 0], [0, 255, 255], [255, 0, 255]]])\n",
        "\n",
        "plt.imshow(check)\n",
        "plt.show()"
      ],
      "execution_count": null,
      "outputs": [
        {
          "output_type": "display_data",
          "data": {
            "image/png": "[encoded data removed]",
            "text/plain": [
              "<Figure size 432x288 with 1 Axes>"
            ]
          },
          "metadata": {
            "tags": [],
            "needs_background": "light"
          }
        }
      ]
    },
    {
      "cell_type": "code",
      "metadata": {
        "id": "8j1iuK8YsLz3",
        "outputId": "24be8959-b06a-4393-8ebe-b10e6a57c646",
        "colab": {
          "base_uri": "https://localhost:8080/",
          "height": 243
        }
      },
      "source": [
        "#checkered 4x7 image\n",
        "check = np.array([\n",
        "                  [[255, 255, 255], [255, 225, 127], [255, 255, 0],   [255, 127, 255], [255, 127, 0],   [255, 0, 255],   [127, 0, 255]],\n",
        "                  [[255, 0, 0],   [255, 255, 255], [255, 225, 127], [255, 255, 0],   [255, 127, 255], [255, 127, 127], [255, 0, 255]],\n",
        "                  [[0, 255, 0],   [255, 0, 0],   [255, 255, 255], [255, 225, 127], [255, 255, 0],   [255, 127, 255], [255, 127, 127]],\n",
        "                  [[0, 0, 255],     [0, 255, 0],   [255, 0, 0],   [255, 255, 255], [255, 225, 127], [255, 255, 0],   [255, 127, 255]]])\n",
        "\n",
        "#9x9 image\n",
        "check1 = np.array([\n",
        "                  [[255, 255, 255], [255, 255, 127], [255, 255, 0],   [255, 127, 255], [255, 127, 127], [255, 127, 0],   [255, 0, 255],   [255, 0, 127],   [255, 0, 0]],\n",
        "                  [[127, 255, 255], [127, 255, 127], [127, 255, 0],   [127, 127, 255], [127, 127, 127], [127, 127, 0],   [127, 0, 255],   [127, 0, 127],   [127, 0, 0]],\n",
        "                  [[0, 255, 255],   [0, 255, 127],   [0, 255, 0],     [0, 127, 255],   [0, 127, 127],   [0, 127, 0],     [0, 0, 255],     [0, 0, 127],     [0, 0, 0]],\n",
        "                  [[0, 255, 127],   [0, 255, 0],     [0, 127, 255],   [0, 127, 127],   [0, 127, 0],     [0, 0, 255],     [0, 0, 127],     [0, 0, 0],       [0, 255, 255]],\n",
        "                  [[0, 255, 0],     [0, 127, 255],   [0, 127, 127],   [0, 127, 0],     [0, 0, 255],     [0, 0, 127],     [0, 0, 0],       [0, 255, 255],   [0, 255, 127]],\n",
        "                  [[0, 127, 255],   [0, 127, 127],   [0, 127, 0],     [0, 0, 255],     [0, 0, 127],     [0, 0, 0],       [0, 255, 255],   [0, 255, 127],   [127, 255, 255]],\n",
        "                  [[0, 127, 127],   [0, 127, 0],     [0, 0, 255],     [0, 0, 127],     [0, 0, 0],       [0, 255, 255],   [0, 255, 127],   [127, 255, 255], [255, 255, 255]],\n",
        "                  [[0, 127, 0],     [0, 0, 255],     [0, 0, 127],     [0, 0, 0],       [0, 255, 255],   [0, 255, 127],   [127, 255, 255], [255, 255, 255], [255, 255, 127]],\n",
        "                  [[0, 0, 255],     [0, 0, 127],     [0, 0, 0],       [0, 255, 255],   [0, 255, 127],   [127, 255, 255], [255, 255, 255], [255, 255, 127], [255, 255, 0]]])\n",
        "plt.imshow(check)\n",
        "plt.show()\n"
      ],
      "execution_count": null,
      "outputs": [
        {
          "output_type": "display_data",
          "data": {
            "image/png": "[encoded data removed]",
            "text/plain": [
              "<Figure size 432x288 with 1 Axes>"
            ]
          },
          "metadata": {
            "tags": [],
            "needs_background": "light"
          }
        }
      ]
    },
    {
      "cell_type": "code",
      "metadata": {
        "id": "Qf_7F31Bua7w",
        "outputId": "3f424687-d969-4e86-dd7d-703e44c73212",
        "colab": {
          "base_uri": "https://localhost:8080/",
          "height": 243
        }
      },
      "source": [
        "foo = check.copy()\n",
        "# foo[:,:,0] = 0          #sets the red component to 0\n",
        "# foo[:,:,1] = 0          #sets the green component to 0\n",
        "# foo[:,:,2] = 0          #sets the blue component to 0\n",
        "foo[:,:,(0, 1)] = 0     #sets both the red and green component to 0\n",
        "plt.imshow(foo)\n",
        "plt.show()"
      ],
      "execution_count": null,
      "outputs": [
        {
          "output_type": "display_data",
          "data": {
            "image/png": "[encoded data removed]",
            "text/plain": [
              "<Figure size 432x288 with 1 Axes>"
            ]
          },
          "metadata": {
            "tags": [],
            "needs_background": "light"
          }
        }
      ]
    },
    {
      "cell_type": "code",
      "metadata": {
        "id": "xlCZZFJ33CNh",
        "outputId": "2c6d1c40-0a5c-4039-b866-2706f8e83b3e",
        "colab": {
          "base_uri": "https://localhost:8080/",
          "height": 243
        }
      },
      "source": [
        "h, w, _ = check.shape\n",
        "tmp = np.zeros((h, w), 'uint8')\n",
        "\n",
        "for i in range(h):\n",
        "  for j in range(w):\n",
        "    clr = check[i, j]\n",
        "    val = 0\n",
        "    for c in clr:\n",
        "      val += c\n",
        "    val //= len(clr)\n",
        "    tmp[i, j] = val  \n",
        "\n",
        "plt.imshow(tmp, cmap='gray')\n",
        "plt.show()\n"
      ],
      "execution_count": null,
      "outputs": [
        {
          "output_type": "display_data",
          "data": {
            "image/png": "[encoded data removed]",
            "text/plain": [
              "<Figure size 432x288 with 1 Axes>"
            ]
          },
          "metadata": {
            "tags": [],
            "needs_background": "light"
          }
        }
      ]
    },
    {
      "cell_type": "code",
      "metadata": {
        "id": "t5FkzXvG9K0z",
        "outputId": "da87f87d-cc96-4d6b-c069-8b6c0f5580c7",
        "colab": {
          "base_uri": "https://localhost:8080/",
          "height": 677
        }
      },
      "source": [
        "h, w, _ = check.shape\n",
        "print(h, w)\n",
        "clr = foo[0,0]\n",
        "len(clr)\n",
        "\n",
        "print(check, '\\n')\n",
        "print(tmp.shape, '\\n', tmp)"
      ],
      "execution_count": null,
      "outputs": [
        {
          "output_type": "stream",
          "text": [
            "4 7\n",
            "[[[255 255 255]\n",
            "  [255 225 127]\n",
            "  [255 255   0]\n",
            "  [255 127 255]\n",
            "  [255 127   0]\n",
            "  [255   0 255]\n",
            "  [127   0 255]]\n",
            "\n",
            " [[255   0   0]\n",
            "  [255 255 255]\n",
            "  [255 225 127]\n",
            "  [255 255   0]\n",
            "  [255 127 255]\n",
            "  [255 127 127]\n",
            "  [255   0 255]]\n",
            "\n",
            " [[  0 255   0]\n",
            "  [255   0   0]\n",
            "  [255 255 255]\n",
            "  [255 225 127]\n",
            "  [255 255   0]\n",
            "  [255 127 255]\n",
            "  [255 127 127]]\n",
            "\n",
            " [[  0   0 255]\n",
            "  [  0 255   0]\n",
            "  [255   0   0]\n",
            "  [255 255 255]\n",
            "  [255 225 127]\n",
            "  [255 255   0]\n",
            "  [255 127 255]]] \n",
            "\n",
            "(4, 7) \n",
            " [[255 202 170 212 127 170 127]\n",
            " [ 85 255 202 170 212 169 170]\n",
            " [ 85  85 255 202 170 212 169]\n",
            " [ 85  85  85 255 202 170 212]]\n"
          ],
          "name": "stdout"
        }
      ]
    }
  ]
}